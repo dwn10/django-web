{
 "cells": [
  {
   "cell_type": "markdown",
   "metadata": {},
   "source": [
    "### Step 0: Install and import libraries"
   ]
  },
  {
   "cell_type": "code",
   "execution_count": null,
   "metadata": {},
   "outputs": [
    {
     "ename": "",
     "evalue": "",
     "output_type": "error",
     "traceback": [
      "\u001b[1;31mFailed to start the Kernel. \n",
      "\u001b[1;31mUnable to start Kernel 'Python 3.11.1' due to a timeout waiting for the ports to get used. \n",
      "\u001b[1;31mView Jupyter <a href='command:jupyter.viewOutput'>log</a> for further details."
     ]
    }
   ],
   "source": [
    "# !pip install PyPDF2               # allows to use a template\n",
    "# !pip install reportlab            # allows to add text to the template"
   ]
  },
  {
   "cell_type": "code",
   "execution_count": null,
   "metadata": {},
   "outputs": [
    {
     "ename": "",
     "evalue": "",
     "output_type": "error",
     "traceback": [
      "\u001b[1;31mFailed to start the Kernel. \n",
      "\u001b[1;31mUnable to start Kernel 'Python 3.11.1' due to a timeout waiting for the ports to get used. \n",
      "\u001b[1;31mView Jupyter <a href='command:jupyter.viewOutput'>log</a> for further details."
     ]
    }
   ],
   "source": [
    "from PyPDF2 import PdfWriter, PdfReader\n",
    "\n",
    "from reportlab.pdfgen import canvas\n",
    "from reportlab.lib.pagesizes import letter, landscape\n",
    "import reportlab.rl_config\n",
    "from reportlab.pdfbase import pdfmetrics\n",
    "from reportlab.pdfbase.ttfonts import TTFont\n",
    "\n",
    "import io\n",
    "import pandas as pd"
   ]
  },
  {
   "cell_type": "markdown",
   "metadata": {},
   "source": [
    "### Step 1: Import data\n",
    "Contains variables such as *name*, *course*, and *date* to be written to the certificate"
   ]
  },
  {
   "cell_type": "code",
   "execution_count": null,
   "metadata": {},
   "outputs": [
    {
     "ename": "",
     "evalue": "",
     "output_type": "error",
     "traceback": [
      "\u001b[1;31mFailed to start the Kernel. \n",
      "\u001b[1;31mUnable to start Kernel 'Python 3.11.1' due to a timeout waiting for the ports to get used. \n",
      "\u001b[1;31mView Jupyter <a href='command:jupyter.viewOutput'>log</a> for further details."
     ]
    }
   ],
   "source": [
    "participants = pd.read_excel('Input/participants.xlsx')\n",
    "participants"
   ]
  },
  {
   "cell_type": "markdown",
   "metadata": {},
   "source": [
    "### Step 2, 3, 4, 5, 6, 7: Add text to certificate template"
   ]
  },
  {
   "cell_type": "code",
   "execution_count": null,
   "metadata": {},
   "outputs": [
    {
     "ename": "",
     "evalue": "",
     "output_type": "error",
     "traceback": [
      "\u001b[1;31mFailed to start the Kernel. \n",
      "\u001b[1;31mUnable to start Kernel 'Python 3.11.1' due to a timeout waiting for the ports to get used. \n",
      "\u001b[1;31mView Jupyter <a href='command:jupyter.viewOutput'>log</a> for further details."
     ]
    }
   ],
   "source": [
    "for i in range(len(participants)):\n",
    "    \n",
    "    ### Step 2: Create variables to be added to the certificate template\n",
    "    student = participants.loc[i,'Student']\n",
    "    course = participants.loc[i,'Course']\n",
    "    date = participants.loc[i,'Date']\n",
    "    \n",
    "    ### Step 3: Set canvas conditions to add text to the template\n",
    "    packet = io.BytesIO()\n",
    "    width, height = letter # letter dimension is 612 x 792, so we will double it to write anywhere in the template\n",
    "    c = canvas.Canvas(packet, pagesize=(width*2, height*2)) # Set dimensions where you can add text to PDF template\n",
    "                                                            # double dimension to write anywhere in the template\n",
    "    \n",
    "    ### Step 4: Get text font types, more info at https://docs.reportlab.com/reportlab/userguide/ch3_fonts/#truetype-font-support\n",
    "    reportlab.rl_config.warnOnMissingFontGlyphs = 0\n",
    "    pdfmetrics.registerFont(TTFont('VeraBd', 'VeraBd.ttf')) # for variable 1: Student\n",
    "    pdfmetrics.registerFont(TTFont('Vera', 'Vera.ttf'))     # for variable 2: Course\n",
    "    pdfmetrics.registerFont(TTFont('VeraBI', 'VeraBI.ttf')) # for variable 3: Date\n",
    "    \n",
    "    ### Step 5: Set font features for each variable\n",
    "    # Set font features for variable 1: Student\n",
    "    c.setFillColorRGB(139/255,119/255,40/255) # Set font colour\n",
    "    c.setFont('VeraBd', 50)                   # Set font type and font size\n",
    "    c.drawCentredString(422, 310, student)    # Set position to write text (\"watermark\")\n",
    "    \n",
    "    # Set font features for variable 2: Course\n",
    "    c.setFillColorRGB(139/255,119/255,40/255) # Set font colour\n",
    "    c.setFont('Vera', 25)                     # Set font type and font size\n",
    "    c.drawCentredString(422, 210, course)     # Set position to write text (\"watermark\")\n",
    "    \n",
    "    # Set font features for variable 3: Date\n",
    "    c.setFillColorRGB(1/255,1/255,1/255)      # Set font colour\n",
    "    c.setFont('VeraBI', 16)                   # Set font type and font size\n",
    "    c.drawCentredString(578, 77, date)        # Set position to write text (\"watermark\")\n",
    "    \n",
    "    # Save all Canvas settings\n",
    "    c.save()\n",
    "\n",
    "    ### Step 6: Get final PDF certifciate\n",
    "    # Get PDF template\n",
    "    existing_pdf = PdfReader(open(\"Input/certificate_template.pdf\", \"rb\"))   # Read PDF template\n",
    "    page = existing_pdf.pages[0]              # Get first (in this case, the only one) page of the template\n",
    "    \n",
    "    # Add \"watermark\" (new_pdf) to template (page) \n",
    "    packet.seek(0)                            # Move to the beginning of the StringIO buffer\n",
    "    new_pdf = PdfReader(packet)               # Create a new PDF with Reportlab based on \"watermark\"\n",
    "    page.merge_page(new_pdf.pages[0])         # Add the \"watermark\" (which is the new PDF) on the existing PDF\n",
    "\n",
    "    ### Step 7: Export final PDF certificate (page)\n",
    "    file_name = student.replace(\" \",\"_\")\n",
    "    certificado = \"Certificates/\" + file_name + \"_certificate.pdf\"\n",
    "    outputStream = open(certificado, \"wb\")\n",
    "    output = PdfWriter()\n",
    "    output.add_page(page)\n",
    "    output.write(outputStream)\n",
    "    outputStream.close()"
   ]
  }
 ],
 "metadata": {
  "kernelspec": {
   "display_name": "Python 3",
   "language": "python",
   "name": "python3"
  },
  "language_info": {
   "codemirror_mode": {
    "name": "ipython",
    "version": 3
   },
   "file_extension": ".py",
   "mimetype": "text/x-python",
   "name": "python",
   "nbconvert_exporter": "python",
   "pygments_lexer": "ipython3",
   "version": "3.11.1"
  }
 },
 "nbformat": 4,
 "nbformat_minor": 2
}
